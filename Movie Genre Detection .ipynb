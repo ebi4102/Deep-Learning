{
 "cells": [
  {
   "cell_type": "markdown",
   "id": "66edf1be",
   "metadata": {},
   "source": [
    "### This script utilizes deep learning techniques to analyze sentiments in movie reviews. After preprocessing the text data and addressing class imbalance, it trains a Sequential model with GRU layers. However, the model's performance seems suboptimal, as indicated by an accuracy score of around 49%. Further optimization may be needed to enhance its predictive capabilities."
   ]
  },
  {
   "cell_type": "markdown",
   "id": "53b6fa58",
   "metadata": {},
   "source": [
    "### Import necessary libraries"
   ]
  },
  {
   "cell_type": "code",
   "execution_count": 1,
   "id": "e595ff41",
   "metadata": {},
   "outputs": [],
   "source": [
    "import numpy as np\n",
    "import pandas as pd\n",
    "import matplotlib.pyplot as plt\n",
    "import seaborn as sns\n",
    "import re\n",
    "from sklearn.model_selection import train_test_split\n",
    "from nltk.stem import WordNetLemmatizer\n",
    "from nltk.corpus import stopwords\n",
    "from sklearn.preprocessing import LabelBinarizer\n",
    "from tensorflow.keras.preprocessing.text import Tokenizer\n",
    "from tensorflow.keras.preprocessing.sequence import pad_sequences\n",
    "from tensorflow.keras import Sequential,layers\n",
    "from sklearn.metrics import accuracy_score,confusion_matrix,classification_report"
   ]
  },
  {
   "cell_type": "markdown",
   "id": "f3ed8515",
   "metadata": {},
   "source": [
    "### Read the dataset"
   ]
  },
  {
   "cell_type": "code",
   "execution_count": 2,
   "id": "0a83b87a",
   "metadata": {},
   "outputs": [],
   "source": [
    "df=pd.read_csv('movie_data.csv')"
   ]
  },
  {
   "cell_type": "code",
   "execution_count": 3,
   "id": "d816bf11",
   "metadata": {},
   "outputs": [
    {
     "data": {
      "text/html": [
       "<div>\n",
       "<style scoped>\n",
       "    .dataframe tbody tr th:only-of-type {\n",
       "        vertical-align: middle;\n",
       "    }\n",
       "\n",
       "    .dataframe tbody tr th {\n",
       "        vertical-align: top;\n",
       "    }\n",
       "\n",
       "    .dataframe thead th {\n",
       "        text-align: right;\n",
       "    }\n",
       "</style>\n",
       "<table border=\"1\" class=\"dataframe\">\n",
       "  <thead>\n",
       "    <tr style=\"text-align: right;\">\n",
       "      <th></th>\n",
       "      <th>review</th>\n",
       "      <th>sentiment</th>\n",
       "    </tr>\n",
       "  </thead>\n",
       "  <tbody>\n",
       "    <tr>\n",
       "      <th>0</th>\n",
       "      <td>This movie is just crap. Even though the direc...</td>\n",
       "      <td>0</td>\n",
       "    </tr>\n",
       "    <tr>\n",
       "      <th>1</th>\n",
       "      <td>Another detailed work on the subject by Dr Dwi...</td>\n",
       "      <td>1</td>\n",
       "    </tr>\n",
       "    <tr>\n",
       "      <th>2</th>\n",
       "      <td>THE CAT O'NINE TAILS (Il Gatto a Nove Code) &lt;b...</td>\n",
       "      <td>0</td>\n",
       "    </tr>\n",
       "    <tr>\n",
       "      <th>3</th>\n",
       "      <td>Like with any movie genre, there are good gang...</td>\n",
       "      <td>0</td>\n",
       "    </tr>\n",
       "    <tr>\n",
       "      <th>4</th>\n",
       "      <td>I watched it with my mom and we were like...&lt;b...</td>\n",
       "      <td>0</td>\n",
       "    </tr>\n",
       "  </tbody>\n",
       "</table>\n",
       "</div>"
      ],
      "text/plain": [
       "                                              review  sentiment\n",
       "0  This movie is just crap. Even though the direc...          0\n",
       "1  Another detailed work on the subject by Dr Dwi...          1\n",
       "2  THE CAT O'NINE TAILS (Il Gatto a Nove Code) <b...          0\n",
       "3  Like with any movie genre, there are good gang...          0\n",
       "4  I watched it with my mom and we were like...<b...          0"
      ]
     },
     "execution_count": 3,
     "metadata": {},
     "output_type": "execute_result"
    }
   ],
   "source": [
    "df.head()"
   ]
  },
  {
   "cell_type": "markdown",
   "id": "bf22b311",
   "metadata": {},
   "source": [
    "### Check for missing values"
   ]
  },
  {
   "cell_type": "code",
   "execution_count": 4,
   "id": "7f034932",
   "metadata": {},
   "outputs": [
    {
     "data": {
      "text/plain": [
       "review       0\n",
       "sentiment    0\n",
       "dtype: int64"
      ]
     },
     "execution_count": 4,
     "metadata": {},
     "output_type": "execute_result"
    }
   ],
   "source": [
    "df.isnull().sum()"
   ]
  },
  {
   "cell_type": "markdown",
   "id": "3e78465b",
   "metadata": {},
   "source": [
    "### Check for duplicates"
   ]
  },
  {
   "cell_type": "code",
   "execution_count": 5,
   "id": "ab841d0a",
   "metadata": {},
   "outputs": [
    {
     "data": {
      "text/plain": [
       "418"
      ]
     },
     "execution_count": 5,
     "metadata": {},
     "output_type": "execute_result"
    }
   ],
   "source": [
    "df.duplicated().sum()"
   ]
  },
  {
   "cell_type": "code",
   "execution_count": 6,
   "id": "a4b388a3",
   "metadata": {},
   "outputs": [],
   "source": [
    "df.drop_duplicates(inplace=True)"
   ]
  },
  {
   "cell_type": "markdown",
   "id": "15afa158",
   "metadata": {},
   "source": [
    "### Print some of the text along with its author"
   ]
  },
  {
   "cell_type": "code",
   "execution_count": 7,
   "id": "a3b92159",
   "metadata": {},
   "outputs": [
    {
     "name": "stdout",
     "output_type": "stream",
     "text": [
      "This movie is just crap. Even though the directors claim to be part of that oi-culture, it's still a very, very bad directorial debut. The topic itself is very interesting and I accept the bad acting due to the fact, that they are all amateurs and never acted before, but the worst thing about this film are the dialogs and very unexperienced and naive directing. There's no timing at all in that movie. I felt like the directors were so exited to do that movie (it's their first feature), that they actually never really asked themselves, what story they wanna tell. I met Ben (one of the directors) on several occasions and he's a nice and thoughtful guy, but that doesn't make him a director. I think, that \"American History X\" is full of clichÃ©s, but somehow manages to transport a story. \"Oi!Warning\" is full of clichÃ©s, doesn't tell anything new or provocative and (-that's the sad thing about this movie) it's far from any Oi!-Reality.<br /><br />If you wanna see weird but great German films, watch the movies of Michael Haneke, Christoph Schlingensief, Oskar Roehler, Hans Weingartner or Oliver Hirschbiegel:<br /><br />Benny's Video Funny Games Die UnberÃ¼hrbare Mein Letzter Film Das Experiment Das Weisse Rauschen MuxmÃ¤uschenstill ...<br /><br />*** out of ten, because of the topic and the photography - 0\n",
      "\n",
      "Another detailed work on the subject by Dr Dwivedi takes us back in time to pre-partioned Panjab. Dr Dwivedi chose a difficult subject for his movie debut. He has worked on all meticulous details to bring the story to life. The treatment of the subject is very delicate.<br /><br />Even though we have not been to the region during that time, the sets and costumes look real. Unlike most movies made on partition, this one focuses not on the gory details of violence to attract audience, but on its after-effects. The characters come to life. Priyanshu Chatterjee has given an impressive performance. Manoj Bajpai has acted his heart out showing the plight of a guilt-ridden man. The rest of the cast has done a good job too. - 1\n",
      "\n",
      "THE CAT O'NINE TAILS (Il Gatto a Nove Code) <br /><br />Aspect ratio: 2.35:1 (Cromoscope)<br /><br />Sound format: Mono<br /><br />(35mm and 70mm release prints)<br /><br />A blind ex-journalist (Karl Malden) overhears a blackmail plot outside a genetics research laboratory and later teams up with a fellow reporter (James Franciscus) to investigate a series of murders at the lab, unwittingly placing their own loved ones at the mercy of a psychopathic killer.<br /><br />Rushed into production following the unexpected worldwide success of his directorial debut THE BIRD WITH THE CRYSTAL PLUMAGE (1969), Dario Argento conceived THE CAT O'NINE TAILS as a giallo-thriller in much the same vein as its forerunner, toplining celebrated Hollywood actor Karl Malden - fresh from his appearance in PATTON (1969) - and rising star Franciscus (THE VALLEY OF GWANGI). Sadly, the resulting film - which the ads claimed was 'nine times more suspenseful' than \"Bird\" - is a disappointing follow-up, impeccably photographed and stylishly executed, but too plodding and aimless for general consumption.<br /><br />Malden and Franciscus are eminently watchable in sympathetic roles, and cinematographer Enrico Menczer (THE DEAD ARE ALIVE) uses the wide Cromoscope frame to convey the hi-tech world in which Argento's dark-hearted scenario unfolds, but the subplot involving Euro starlet Catherine Spaak (THE LIBERTINE) as Franciscus' romantic interest amounts to little more than unnecessary padding. Highlights include an unforgettable encounter with the black-gloved assassin in a crowded railway station (edited with sleek assurance by cult movie stalwart Franco Fraticelli), and a nocturnal episode in which Malden and Franciscus seek an important clue inside a mouldering tomb and fall prey to the killer's devious machinations. But despite these flashes of brilliance, the film rambles aimlessly from one scene to the next, simmering gently without ever really coming to the boil. It's no surprise that \"Cat\" failed to emulate the runaway success of \"Bird\" when released in 1971.<br /><br />(English version) - 0\n",
      "\n"
     ]
    }
   ],
   "source": [
    "for i in range(3):\n",
    "    print(df['review'][i],'-',df['sentiment'][i])\n",
    "    \n",
    "    print( )"
   ]
  },
  {
   "cell_type": "markdown",
   "id": "c3b0d7bc",
   "metadata": {},
   "source": [
    "### Create a function to preproces the text"
   ]
  },
  {
   "cell_type": "code",
   "execution_count": 8,
   "id": "dcad4229",
   "metadata": {},
   "outputs": [],
   "source": [
    "def preproces(sentence):\n",
    "    text=re.sub(r\"[^0-9a-zA-Z]\",'',sentence).split()\n",
    "    words=[i.lower() for i in text if i not in stopwords.words('english')]\n",
    "    lemma=WordNetLemmatizer()\n",
    "    word=[lemma.lemmatize(word,'v') for word in words]\n",
    "    \n",
    "    return ' '.join(word)"
   ]
  },
  {
   "cell_type": "code",
   "execution_count": 9,
   "id": "cb745002",
   "metadata": {},
   "outputs": [],
   "source": [
    "df['review']=df['review'].apply(preproces)"
   ]
  },
  {
   "cell_type": "markdown",
   "id": "b71e28f2",
   "metadata": {},
   "source": [
    "### Print some of the text after preprocess"
   ]
  },
  {
   "cell_type": "code",
   "execution_count": 10,
   "id": "26ec3050",
   "metadata": {},
   "outputs": [
    {
     "name": "stdout",
     "output_type": "stream",
     "text": [
      "thismovieisjustcrapeventhoughthedirectorsclaimtobepartofthatoicultureitsstillaveryverybaddirectorialdebutthetopicitselfisveryinterestingandiacceptthebadactingduetothefactthattheyareallamateursandneveractedbeforebuttheworstthingaboutthisfilmarethedialogsandveryunexperiencedandnaivedirectingtheresnotimingatallinthatmovieifeltlikethedirectorsweresoexitedtodothatmovieitstheirfirstfeaturethattheyactuallyneverreallyaskedthemselveswhatstorytheywannatellimetbenoneofthedirectorsonseveraloccasionsandhesaniceandthoughtfulguybutthatdoesntmakehimadirectorithinkthatamericanhistoryxisfullofclichsbutsomehowmanagestotransportastoryoiwarningisfullofclichsdoesnttellanythingneworprovocativeandthatsthesadthingaboutthismovieitsfarfromanyoirealitybrbrifyouwannaseeweirdbutgreatgermanfilmswatchthemoviesofmichaelhanekechristophschlingensiefoskarroehlerhansweingartneroroliverhirschbiegelbrbrbennysvideofunnygamesdieunberhrbaremeinletzterfilmdasexperimentdasweisserauschenmuxmuschenstillbrbroutoftenbecauseofthetopicandthephotography - 0\n",
      "\n",
      "anotherdetailedworkonthesubjectbydrdwiveditakesusbackintimetoprepartionedpanjabdrdwivedichoseadifficultsubjectforhismoviedebuthehasworkedonallmeticulousdetailstobringthestorytolifethetreatmentofthesubjectisverydelicatebrbreventhoughwehavenotbeentotheregionduringthattimethesetsandcostumeslookrealunlikemostmoviesmadeonpartitionthisonefocusesnotonthegorydetailsofviolencetoattractaudiencebutonitsaftereffectsthecharacterscometolifepriyanshuchatterjeehasgivenanimpressiveperformancemanojbajpaihasactedhisheartoutshowingtheplightofaguiltriddenmantherestofthecasthasdoneagoodjobtoo - 1\n",
      "\n",
      "thecatoninetailsilgattoanovecodebrbraspectratio2351cromoscopebrbrsoundformatmonobrbr35mmand70mmreleaseprintsbrbrablindexjournalistkarlmaldenoverhearsablackmailplotoutsideageneticsresearchlaboratoryandlaterteamsupwithafellowreporterjamesfranciscustoinvestigateaseriesofmurdersatthelabunwittinglyplacingtheirownlovedonesatthemercyofapsychopathickillerbrbrrushedintoproductionfollowingtheunexpectedworldwidesuccessofhisdirectorialdebutthebirdwiththecrystalplumage1969darioargentoconceivedthecatoninetailsasagiallothrillerinmuchthesameveinasitsforerunnertopliningcelebratedhollywoodactorkarlmaldenfreshfromhisappearanceinpatton1969andrisingstarfranciscusthevalleyofgwangisadlytheresultingfilmwhichtheadsclaimedwasninetimesmoresuspensefulthanbirdisadisappointingfollowupimpeccablyphotographedandstylishlyexecutedbuttooploddingandaimlessforgeneralconsumptionbrbrmaldenandfranciscusareeminentlywatchableinsympatheticrolesandcinematographerenricomenczerthedeadarealiveusesthewidecromoscopeframetoconveythehitechworldinwhichargentosdarkheartedscenariounfoldsbutthesubplotinvolvingeurostarletcatherinespaakthelibertineasfranciscusromanticinterestamountstolittlemorethanunnecessarypaddinghighlightsincludeanunforgettableencounterwiththeblackglovedassassininacrowdedrailwaystationeditedwithsleekassurancebycultmoviestalwartfrancofraticelliandanocturnalepisodeinwhichmaldenandfranciscusseekanimportantclueinsideamoulderingtombandfallpreytothekillersdeviousmachinationsbutdespitetheseflashesofbrilliancethefilmramblesaimlesslyfromonescenetothenextsimmeringgentlywithouteverreallycomingtotheboilitsnosurprisethatcatfailedtoemulatetherunawaysuccessofbirdwhenreleasedin1971brbrenglishversion - 0\n",
      "\n"
     ]
    }
   ],
   "source": [
    "for i in range(3):\n",
    "    print(df['review'][i],'-',df['sentiment'][i])\n",
    "    \n",
    "    print( )"
   ]
  },
  {
   "cell_type": "markdown",
   "id": "ac1f3e13",
   "metadata": {},
   "source": [
    "### Check for imbalance in the dataset"
   ]
  },
  {
   "cell_type": "code",
   "execution_count": 14,
   "id": "3cc82807",
   "metadata": {},
   "outputs": [
    {
     "data": {
      "text/plain": [
       "<Axes: xlabel='count', ylabel='sentiment'>"
      ]
     },
     "execution_count": 14,
     "metadata": {},
     "output_type": "execute_result"
    },
    {
     "data": {
      "image/png": "[encoded data removed]",
      "text/plain": [
       "<Figure size 640x480 with 1 Axes>"
      ]
     },
     "metadata": {},
     "output_type": "display_data"
    }
   ],
   "source": [
    "sns.countplot(y=df['sentiment'])"
   ]
  },
  {
   "cell_type": "markdown",
   "id": "0dd7baef",
   "metadata": {},
   "source": [
    "### Split the dataset into Input & Target Variables"
   ]
  },
  {
   "cell_type": "code",
   "execution_count": 15,
   "id": "30e824d8",
   "metadata": {},
   "outputs": [],
   "source": [
    "X=df['review']\n",
    "y=df['sentiment']"
   ]
  },
  {
   "cell_type": "markdown",
   "id": "b80af7da",
   "metadata": {},
   "source": [
    "### Create Keras tokenizer object with 5000 max words\n",
    "Convert text to sequence\n",
    "\n",
    "Add padding"
   ]
  },
  {
   "cell_type": "code",
   "execution_count": 16,
   "id": "53e1d63f",
   "metadata": {},
   "outputs": [],
   "source": [
    "tokenizer=Tokenizer(num_words=4000)"
   ]
  },
  {
   "cell_type": "code",
   "execution_count": 17,
   "id": "0d4176c8",
   "metadata": {},
   "outputs": [],
   "source": [
    "tokenizer.fit_on_texts(X)"
   ]
  },
  {
   "cell_type": "code",
   "execution_count": 18,
   "id": "9b532122",
   "metadata": {},
   "outputs": [],
   "source": [
    "vocab_size=len(tokenizer.word_index)+1"
   ]
  },
  {
   "cell_type": "code",
   "execution_count": 19,
   "id": "9ce1ee2c",
   "metadata": {},
   "outputs": [],
   "source": [
    "def text_encoding(txt):\n",
    "    encoded_docs=tokenizer.texts_to_sequences(txt)\n",
    "    \n",
    "    padded_sequence=pad_sequences(encoded_docs, maxlen=125)\n",
    "    \n",
    "    return padded_sequence"
   ]
  },
  {
   "cell_type": "markdown",
   "id": "f9789587",
   "metadata": {},
   "source": [
    "### Split the dataset into Training & Testing set"
   ]
  },
  {
   "cell_type": "code",
   "execution_count": 20,
   "id": "e27bd4f2",
   "metadata": {},
   "outputs": [],
   "source": [
    "X_train,X_test,y_train,y_test=train_test_split(X,y,test_size=0.2)"
   ]
  },
  {
   "cell_type": "code",
   "execution_count": 21,
   "id": "4061c729",
   "metadata": {},
   "outputs": [],
   "source": [
    "X_train=text_encoding(X_train)\n",
    "X_test=text_encoding(X_test)"
   ]
  },
  {
   "cell_type": "markdown",
   "id": "76a65544",
   "metadata": {},
   "source": [
    "### Create keras Sequential model with GRU layers"
   ]
  },
  {
   "cell_type": "code",
   "execution_count": 22,
   "id": "1413ff8a",
   "metadata": {},
   "outputs": [],
   "source": [
    "model=Sequential()\n",
    "\n",
    "model.add(layers.Embedding(vocab_size,125))\n",
    "\n",
    "model.add(layers.GRU(125, return_sequences=True))\n",
    "model.add(layers.Dropout(0.2))\n",
    "\n",
    "model.add(layers.GRU(125))\n",
    "model.add(layers.Dropout(0.2))\n",
    "\n",
    "model.add(layers.Dense(64, activation='relu'))\n",
    "model.add(layers.Dropout(0.2))\n",
    "\n",
    "model.add(layers.Dense(2, activation='softmax'))\n"
   ]
  },
  {
   "cell_type": "markdown",
   "id": "5c835884",
   "metadata": {},
   "source": [
    "### Compile the model"
   ]
  },
  {
   "cell_type": "code",
   "execution_count": 23,
   "id": "e1065868",
   "metadata": {},
   "outputs": [],
   "source": [
    "model.compile(loss='sparse_categorical_crossentropy', optimizer='adam', metrics=['accuracy'])"
   ]
  },
  {
   "cell_type": "markdown",
   "id": "9f9d1f4a",
   "metadata": {},
   "source": [
    "### Train the model"
   ]
  },
  {
   "cell_type": "code",
   "execution_count": 24,
   "id": "2fffd872",
   "metadata": {},
   "outputs": [
    {
     "name": "stdout",
     "output_type": "stream",
     "text": [
      "Epoch 1/10\n",
      "\u001b[1m1177/1177\u001b[0m \u001b[32m━━━━━━━━━━━━━━━━━━━━\u001b[0m\u001b[37m\u001b[0m \u001b[1m207s\u001b[0m 173ms/step - accuracy: 0.4997 - loss: 0.6944 - val_accuracy: 0.4758 - val_loss: 0.6949\n",
      "Epoch 2/10\n",
      "\u001b[1m1177/1177\u001b[0m \u001b[32m━━━━━━━━━━━━━━━━━━━━\u001b[0m\u001b[37m\u001b[0m \u001b[1m207s\u001b[0m 176ms/step - accuracy: 0.5016 - loss: 0.6934 - val_accuracy: 0.4758 - val_loss: 0.6939\n",
      "Epoch 3/10\n",
      "\u001b[1m1177/1177\u001b[0m \u001b[32m━━━━━━━━━━━━━━━━━━━━\u001b[0m\u001b[37m\u001b[0m \u001b[1m199s\u001b[0m 169ms/step - accuracy: 0.5178 - loss: 0.6714 - val_accuracy: 0.5151 - val_loss: 0.7288\n",
      "Epoch 4/10\n",
      "\u001b[1m1177/1177\u001b[0m \u001b[32m━━━━━━━━━━━━━━━━━━━━\u001b[0m\u001b[37m\u001b[0m \u001b[1m199s\u001b[0m 169ms/step - accuracy: 0.5402 - loss: 0.6400 - val_accuracy: 0.4788 - val_loss: 0.7124\n",
      "Epoch 5/10\n",
      "\u001b[1m1177/1177\u001b[0m \u001b[32m━━━━━━━━━━━━━━━━━━━━\u001b[0m\u001b[37m\u001b[0m \u001b[1m212s\u001b[0m 180ms/step - accuracy: 0.5427 - loss: 0.6400 - val_accuracy: 0.5161 - val_loss: 0.7143\n",
      "Epoch 6/10\n",
      "\u001b[1m1177/1177\u001b[0m \u001b[32m━━━━━━━━━━━━━━━━━━━━\u001b[0m\u001b[37m\u001b[0m \u001b[1m198s\u001b[0m 169ms/step - accuracy: 0.5415 - loss: 0.6377 - val_accuracy: 0.4783 - val_loss: 0.7154\n",
      "Epoch 7/10\n",
      "\u001b[1m1177/1177\u001b[0m \u001b[32m━━━━━━━━━━━━━━━━━━━━\u001b[0m\u001b[37m\u001b[0m \u001b[1m197s\u001b[0m 167ms/step - accuracy: 0.5416 - loss: 0.6382 - val_accuracy: 0.4788 - val_loss: 0.6968\n",
      "Epoch 8/10\n",
      "\u001b[1m1177/1177\u001b[0m \u001b[32m━━━━━━━━━━━━━━━━━━━━\u001b[0m\u001b[37m\u001b[0m \u001b[1m204s\u001b[0m 173ms/step - accuracy: 0.5358 - loss: 0.6386 - val_accuracy: 0.4783 - val_loss: 0.7005\n",
      "Epoch 9/10\n",
      "\u001b[1m1177/1177\u001b[0m \u001b[32m━━━━━━━━━━━━━━━━━━━━\u001b[0m\u001b[37m\u001b[0m \u001b[1m203s\u001b[0m 173ms/step - accuracy: 0.5396 - loss: 0.6363 - val_accuracy: 0.4783 - val_loss: 0.7006\n",
      "Epoch 10/10\n",
      "\u001b[1m1177/1177\u001b[0m \u001b[32m━━━━━━━━━━━━━━━━━━━━\u001b[0m\u001b[37m\u001b[0m \u001b[1m200s\u001b[0m 170ms/step - accuracy: 0.5418 - loss: 0.6384 - val_accuracy: 0.5232 - val_loss: 0.7003\n"
     ]
    },
    {
     "data": {
      "text/plain": [
       "<keras.src.callbacks.history.History at 0x1a2966aab90>"
      ]
     },
     "execution_count": 24,
     "metadata": {},
     "output_type": "execute_result"
    }
   ],
   "source": [
    "model.fit(X_train, y_train, epochs=10, validation_split=0.05)"
   ]
  },
  {
   "cell_type": "markdown",
   "id": "7e3fcada",
   "metadata": {},
   "source": [
    "### Make predictions with Test set"
   ]
  },
  {
   "cell_type": "code",
   "execution_count": 25,
   "id": "6b0edefd",
   "metadata": {},
   "outputs": [
    {
     "name": "stdout",
     "output_type": "stream",
     "text": [
      "\u001b[1m310/310\u001b[0m \u001b[32m━━━━━━━━━━━━━━━━━━━━\u001b[0m\u001b[37m\u001b[0m \u001b[1m10s\u001b[0m 31ms/step\n"
     ]
    }
   ],
   "source": [
    "y_pred=model.predict(X_test)"
   ]
  },
  {
   "cell_type": "markdown",
   "id": "a7994b3d",
   "metadata": {},
   "source": [
    "### Fetch the index of the higher probable prediction"
   ]
  },
  {
   "cell_type": "code",
   "execution_count": 26,
   "id": "71545b86",
   "metadata": {},
   "outputs": [],
   "source": [
    "y_pred=[np.argmax(i) for i in y_pred]"
   ]
  },
  {
   "cell_type": "code",
   "execution_count": 27,
   "id": "1488642d",
   "metadata": {},
   "outputs": [],
   "source": [
    "y_pred=[np.argmax(i) for i in y_pred]"
   ]
  },
  {
   "cell_type": "markdown",
   "id": "9d8e0aef",
   "metadata": {},
   "source": [
    "### Evaluate the model"
   ]
  },
  {
   "cell_type": "markdown",
   "id": "0fca3a20",
   "metadata": {},
   "source": [
    "### Accuracy score"
   ]
  },
  {
   "cell_type": "code",
   "execution_count": 28,
   "id": "0196981e",
   "metadata": {},
   "outputs": [
    {
     "data": {
      "text/plain": [
       "0.49056603773584906"
      ]
     },
     "execution_count": 28,
     "metadata": {},
     "output_type": "execute_result"
    }
   ],
   "source": [
    "accuracy_score(y_test,y_pred)"
   ]
  },
  {
   "cell_type": "markdown",
   "id": "5ce09a50",
   "metadata": {},
   "source": [
    "### Confusion matrix"
   ]
  },
  {
   "cell_type": "code",
   "execution_count": 29,
   "id": "98ed4aa2",
   "metadata": {},
   "outputs": [
    {
     "data": {
      "text/plain": [
       "<Axes: >"
      ]
     },
     "execution_count": 29,
     "metadata": {},
     "output_type": "execute_result"
    },
    {
     "data": {
      "image/png": "[encoded data removed]",
      "text/plain": [
       "<Figure size 640x480 with 2 Axes>"
      ]
     },
     "metadata": {},
     "output_type": "display_data"
    }
   ],
   "source": [
    "sns.heatmap(confusion_matrix(y_test, y_pred), annot = True, fmt = 'd')"
   ]
  },
  {
   "cell_type": "markdown",
   "id": "42c3cf81",
   "metadata": {},
   "source": [
    "### Classification Report"
   ]
  },
  {
   "cell_type": "code",
   "execution_count": 30,
   "id": "ee6a82d3",
   "metadata": {},
   "outputs": [
    {
     "name": "stderr",
     "output_type": "stream",
     "text": [
      "C:\\Users\\ASUS\\anaconda3\\Lib\\site-packages\\sklearn\\metrics\\_classification.py:1469: UndefinedMetricWarning: Precision and F-score are ill-defined and being set to 0.0 in labels with no predicted samples. Use `zero_division` parameter to control this behavior.\n",
      "  _warn_prf(average, modifier, msg_start, len(result))\n",
      "C:\\Users\\ASUS\\anaconda3\\Lib\\site-packages\\sklearn\\metrics\\_classification.py:1469: UndefinedMetricWarning: Precision and F-score are ill-defined and being set to 0.0 in labels with no predicted samples. Use `zero_division` parameter to control this behavior.\n",
      "  _warn_prf(average, modifier, msg_start, len(result))\n",
      "C:\\Users\\ASUS\\anaconda3\\Lib\\site-packages\\sklearn\\metrics\\_classification.py:1469: UndefinedMetricWarning: Precision and F-score are ill-defined and being set to 0.0 in labels with no predicted samples. Use `zero_division` parameter to control this behavior.\n",
      "  _warn_prf(average, modifier, msg_start, len(result))\n"
     ]
    },
    {
     "data": {
      "text/plain": [
       "'              precision    recall  f1-score   support\\n\\n           0       0.49      1.00      0.66      4862\\n           1       0.00      0.00      0.00      5049\\n\\n    accuracy                           0.49      9911\\n   macro avg       0.25      0.50      0.33      9911\\nweighted avg       0.24      0.49      0.32      9911\\n'"
      ]
     },
     "execution_count": 30,
     "metadata": {},
     "output_type": "execute_result"
    }
   ],
   "source": [
    "classification_report(y_test, y_pred)"
   ]
  },
  {
   "cell_type": "code",
   "execution_count": null,
   "id": "6b0d7f07",
   "metadata": {},
   "outputs": [],
   "source": []
  }
 ],
 "metadata": {
  "kernelspec": {
   "display_name": "Python 3 (ipykernel)",
   "language": "python",
   "name": "python3"
  },
  "language_info": {
   "codemirror_mode": {
    "name": "ipython",
    "version": 3
   },
   "file_extension": ".py",
   "mimetype": "text/x-python",
   "name": "python",
   "nbconvert_exporter": "python",
   "pygments_lexer": "ipython3",
   "version": "3.11.5"
  }
 },
 "nbformat": 4,
 "nbformat_minor": 5
}
